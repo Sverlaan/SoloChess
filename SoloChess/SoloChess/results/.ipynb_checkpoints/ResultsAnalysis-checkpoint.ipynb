{
 "cells": [
  {
   "cell_type": "markdown",
   "metadata": {},
   "source": [
    "# Solo Chess - Data Analysis"
   ]
  },
  {
   "cell_type": "code",
   "execution_count": 1,
   "metadata": {},
   "outputs": [
    {
     "name": "stderr",
     "output_type": "stream",
     "text": [
      "C:\\Users\\sverl\\Anaconda3\\lib\\site-packages\\pandas\\compat\\_optional.py:138: UserWarning: Pandas requires version '2.7.0' or newer of 'numexpr' (version '2.6.9' currently installed).\n",
      "  warnings.warn(msg, UserWarning)\n"
     ]
    }
   ],
   "source": [
    "## Imports\n",
    "import numpy as np\n",
    "import pandas as pd\n",
    "import statsmodels\n",
    "import statistics\n",
    "import matplotlib.pyplot as plt\n",
    "import re\n",
    "import functools as ft\n",
    "from scipy import stats\n",
    "\n",
    "color_dict = {'bt_random': 'C0', 'bt_rank' : 'C1', 'bt_attack':'C2', 'bt_center':'C3'}"
   ]
  },
  {
   "cell_type": "markdown",
   "metadata": {},
   "source": [
    "### Loading Data"
   ]
  },
  {
   "cell_type": "code",
   "execution_count": 2,
   "metadata": {
    "scrolled": true
   },
   "outputs": [
    {
     "data": {
      "text/html": [
       "<div>\n",
       "<style scoped>\n",
       "    .dataframe tbody tr th:only-of-type {\n",
       "        vertical-align: middle;\n",
       "    }\n",
       "\n",
       "    .dataframe tbody tr th {\n",
       "        vertical-align: top;\n",
       "    }\n",
       "\n",
       "    .dataframe thead th {\n",
       "        text-align: right;\n",
       "    }\n",
       "</style>\n",
       "<table border=\"1\" class=\"dataframe\">\n",
       "  <thead>\n",
       "    <tr style=\"text-align: right;\">\n",
       "      <th></th>\n",
       "      <th>id</th>\n",
       "      <th>bt_random</th>\n",
       "      <th>bt_rank</th>\n",
       "      <th>bt_attack</th>\n",
       "      <th>bt_center</th>\n",
       "      <th>N</th>\n",
       "      <th>rankdist</th>\n",
       "    </tr>\n",
       "  </thead>\n",
       "  <tbody>\n",
       "    <tr>\n",
       "      <th>2000</th>\n",
       "      <td>40001</td>\n",
       "      <td>0</td>\n",
       "      <td>2</td>\n",
       "      <td>0</td>\n",
       "      <td>0</td>\n",
       "      <td>4</td>\n",
       "      <td>915</td>\n",
       "    </tr>\n",
       "    <tr>\n",
       "      <th>2001</th>\n",
       "      <td>40002</td>\n",
       "      <td>2</td>\n",
       "      <td>1</td>\n",
       "      <td>0</td>\n",
       "      <td>1</td>\n",
       "      <td>4</td>\n",
       "      <td>335</td>\n",
       "    </tr>\n",
       "    <tr>\n",
       "      <th>2002</th>\n",
       "      <td>40003</td>\n",
       "      <td>0</td>\n",
       "      <td>0</td>\n",
       "      <td>0</td>\n",
       "      <td>0</td>\n",
       "      <td>4</td>\n",
       "      <td>553</td>\n",
       "    </tr>\n",
       "    <tr>\n",
       "      <th>2003</th>\n",
       "      <td>40004</td>\n",
       "      <td>1</td>\n",
       "      <td>4</td>\n",
       "      <td>2</td>\n",
       "      <td>0</td>\n",
       "      <td>4</td>\n",
       "      <td>195</td>\n",
       "    </tr>\n",
       "    <tr>\n",
       "      <th>2004</th>\n",
       "      <td>40005</td>\n",
       "      <td>1</td>\n",
       "      <td>2</td>\n",
       "      <td>0</td>\n",
       "      <td>0</td>\n",
       "      <td>4</td>\n",
       "      <td>539</td>\n",
       "    </tr>\n",
       "    <tr>\n",
       "      <th>...</th>\n",
       "      <td>...</td>\n",
       "      <td>...</td>\n",
       "      <td>...</td>\n",
       "      <td>...</td>\n",
       "      <td>...</td>\n",
       "      <td>...</td>\n",
       "      <td>...</td>\n",
       "    </tr>\n",
       "    <tr>\n",
       "      <th>12995</th>\n",
       "      <td>140996</td>\n",
       "      <td>15803</td>\n",
       "      <td>2299</td>\n",
       "      <td>133</td>\n",
       "      <td>603</td>\n",
       "      <td>14</td>\n",
       "      <td>3939935915959</td>\n",
       "    </tr>\n",
       "    <tr>\n",
       "      <th>12996</th>\n",
       "      <td>140997</td>\n",
       "      <td>62518</td>\n",
       "      <td>5735</td>\n",
       "      <td>183</td>\n",
       "      <td>227642</td>\n",
       "      <td>14</td>\n",
       "      <td>1551959955935</td>\n",
       "    </tr>\n",
       "    <tr>\n",
       "      <th>12997</th>\n",
       "      <td>140998</td>\n",
       "      <td>40684</td>\n",
       "      <td>1918</td>\n",
       "      <td>4189</td>\n",
       "      <td>0</td>\n",
       "      <td>14</td>\n",
       "      <td>9999515555191</td>\n",
       "    </tr>\n",
       "    <tr>\n",
       "      <th>12998</th>\n",
       "      <td>140999</td>\n",
       "      <td>149249</td>\n",
       "      <td>258422</td>\n",
       "      <td>621</td>\n",
       "      <td>161691</td>\n",
       "      <td>14</td>\n",
       "      <td>5993153515331</td>\n",
       "    </tr>\n",
       "    <tr>\n",
       "      <th>12999</th>\n",
       "      <td>141000</td>\n",
       "      <td>49485</td>\n",
       "      <td>58345</td>\n",
       "      <td>19</td>\n",
       "      <td>91</td>\n",
       "      <td>14</td>\n",
       "      <td>9953339593551</td>\n",
       "    </tr>\n",
       "  </tbody>\n",
       "</table>\n",
       "<p>11000 rows × 7 columns</p>\n",
       "</div>"
      ],
      "text/plain": [
       "           id  bt_random  bt_rank  bt_attack  bt_center   N       rankdist\n",
       "2000    40001          0        2          0          0   4            915\n",
       "2001    40002          2        1          0          1   4            335\n",
       "2002    40003          0        0          0          0   4            553\n",
       "2003    40004          1        4          2          0   4            195\n",
       "2004    40005          1        2          0          0   4            539\n",
       "...       ...        ...      ...        ...        ...  ..            ...\n",
       "12995  140996      15803     2299        133        603  14  3939935915959\n",
       "12996  140997      62518     5735        183     227642  14  1551959955935\n",
       "12997  140998      40684     1918       4189          0  14  9999515555191\n",
       "12998  140999     149249   258422        621     161691  14  5993153515331\n",
       "12999  141000      49485    58345         19         91  14  9953339593551\n",
       "\n",
       "[11000 rows x 7 columns]"
      ]
     },
     "execution_count": 2,
     "metadata": {},
     "output_type": "execute_result"
    }
   ],
   "source": [
    "## Load .csv files\n",
    "char = pd.read_csv('characteristics.csv')\n",
    "rand = pd.read_csv('random2-14NEW.csv')\n",
    "rank = pd.read_csv('rank2-14NEWNEW.csv')\n",
    "attack = pd.read_csv('attack2-14NEWNEW.csv')\n",
    "center = pd.read_csv('center2-14NEWNEW.csv')\n",
    "\n",
    "## Create full dataframe\n",
    "df = ft.reduce(lambda  left,right: pd.merge(left,right,on=['id'], how='outer'), [rand, rank, attack, center, char])\n",
    "\n",
    "## Disregard columns\n",
    "df = df.drop([\"time_random\", \"time_rank\", \"time_attack\", \"time_center\"], axis=1)\n",
    "\n",
    "## Remove puzzles with N < 4\n",
    "df = df[df['N'] > 3]\n",
    "\n",
    "df.to_csv('alldata.csv', index=False)\n",
    "df"
   ]
  },
  {
   "cell_type": "markdown",
   "metadata": {},
   "source": [
    "### Full Data Statistics"
   ]
  },
  {
   "cell_type": "code",
   "execution_count": 3,
   "metadata": {},
   "outputs": [
    {
     "data": {
      "text/plain": [
       "<matplotlib.axes._subplots.AxesSubplot at 0x2867b731630>"
      ]
     },
     "execution_count": 3,
     "metadata": {},
     "output_type": "execute_result"
    },
    {
     "data": {
      "image/png": "[encoded data removed]",
      "text/plain": [
       "<Figure size 288x360 with 1 Axes>"
      ]
     },
     "metadata": {
      "needs_background": "light"
     },
     "output_type": "display_data"
    }
   ],
   "source": [
    "data = pd.read_csv('alldata.csv')\n",
    "\n",
    "## Add columns with normalized number of backtracks compared to bt_random\n",
    "def normalize(df, col, by):\n",
    "    df[col+\"_norm\"] = (df[col]+1) / (df[by]+1)\n",
    "    \n",
    "for col in ['bt_random', 'bt_rank', 'bt_attack', 'bt_center']:\n",
    "    normalize(data, col, 'bt_random')\n",
    "    \n",
    "data\n",
    "\n",
    "data.boxplot(column=['bt_rank_norm', 'bt_attack_norm', 'bt_center_norm'],\n",
    "                  labels=['a', 'b', 'c'], figsize=(4,5), showfliers=False)"
   ]
  },
  {
   "cell_type": "markdown",
   "metadata": {},
   "source": [
    "### Compare on number of pieces $N$"
   ]
  },
  {
   "cell_type": "code",
   "execution_count": 4,
   "metadata": {
    "scrolled": true
   },
   "outputs": [
    {
     "data": {
      "text/html": [
       "<div>\n",
       "<style scoped>\n",
       "    .dataframe tbody tr th:only-of-type {\n",
       "        vertical-align: middle;\n",
       "    }\n",
       "\n",
       "    .dataframe tbody tr th {\n",
       "        vertical-align: top;\n",
       "    }\n",
       "\n",
       "    .dataframe thead th {\n",
       "        text-align: right;\n",
       "    }\n",
       "</style>\n",
       "<table border=\"1\" class=\"dataframe\">\n",
       "  <thead>\n",
       "    <tr style=\"text-align: right;\">\n",
       "      <th></th>\n",
       "      <th>N</th>\n",
       "      <th>bt_random</th>\n",
       "      <th>bt_rank</th>\n",
       "      <th>bt_attack</th>\n",
       "      <th>bt_center</th>\n",
       "    </tr>\n",
       "  </thead>\n",
       "  <tbody>\n",
       "    <tr>\n",
       "      <th>0</th>\n",
       "      <td>4</td>\n",
       "      <td>1.014</td>\n",
       "      <td>0.709</td>\n",
       "      <td>1.195</td>\n",
       "      <td>0.184</td>\n",
       "    </tr>\n",
       "    <tr>\n",
       "      <th>1</th>\n",
       "      <td>5</td>\n",
       "      <td>4.197</td>\n",
       "      <td>2.678</td>\n",
       "      <td>4.165</td>\n",
       "      <td>0.911</td>\n",
       "    </tr>\n",
       "    <tr>\n",
       "      <th>2</th>\n",
       "      <td>6</td>\n",
       "      <td>14.088</td>\n",
       "      <td>9.217</td>\n",
       "      <td>13.848</td>\n",
       "      <td>4.013</td>\n",
       "    </tr>\n",
       "    <tr>\n",
       "      <th>3</th>\n",
       "      <td>7</td>\n",
       "      <td>43.679</td>\n",
       "      <td>27.958</td>\n",
       "      <td>41.909</td>\n",
       "      <td>15.531</td>\n",
       "    </tr>\n",
       "    <tr>\n",
       "      <th>4</th>\n",
       "      <td>8</td>\n",
       "      <td>137.516</td>\n",
       "      <td>85.001</td>\n",
       "      <td>129.642</td>\n",
       "      <td>65.940</td>\n",
       "    </tr>\n",
       "    <tr>\n",
       "      <th>5</th>\n",
       "      <td>9</td>\n",
       "      <td>434.994</td>\n",
       "      <td>291.460</td>\n",
       "      <td>388.859</td>\n",
       "      <td>217.057</td>\n",
       "    </tr>\n",
       "    <tr>\n",
       "      <th>6</th>\n",
       "      <td>10</td>\n",
       "      <td>1375.835</td>\n",
       "      <td>828.894</td>\n",
       "      <td>1215.032</td>\n",
       "      <td>723.958</td>\n",
       "    </tr>\n",
       "    <tr>\n",
       "      <th>7</th>\n",
       "      <td>11</td>\n",
       "      <td>3988.377</td>\n",
       "      <td>2615.365</td>\n",
       "      <td>3492.713</td>\n",
       "      <td>2315.766</td>\n",
       "    </tr>\n",
       "    <tr>\n",
       "      <th>8</th>\n",
       "      <td>12</td>\n",
       "      <td>11373.429</td>\n",
       "      <td>6438.846</td>\n",
       "      <td>10164.816</td>\n",
       "      <td>6995.046</td>\n",
       "    </tr>\n",
       "    <tr>\n",
       "      <th>9</th>\n",
       "      <td>13</td>\n",
       "      <td>34498.766</td>\n",
       "      <td>19442.650</td>\n",
       "      <td>28919.279</td>\n",
       "      <td>29873.229</td>\n",
       "    </tr>\n",
       "    <tr>\n",
       "      <th>10</th>\n",
       "      <td>14</td>\n",
       "      <td>96643.015</td>\n",
       "      <td>66013.368</td>\n",
       "      <td>83419.583</td>\n",
       "      <td>82283.881</td>\n",
       "    </tr>\n",
       "  </tbody>\n",
       "</table>\n",
       "</div>"
      ],
      "text/plain": [
       "     N  bt_random    bt_rank  bt_attack  bt_center\n",
       "0    4      1.014      0.709      1.195      0.184\n",
       "1    5      4.197      2.678      4.165      0.911\n",
       "2    6     14.088      9.217     13.848      4.013\n",
       "3    7     43.679     27.958     41.909     15.531\n",
       "4    8    137.516     85.001    129.642     65.940\n",
       "5    9    434.994    291.460    388.859    217.057\n",
       "6   10   1375.835    828.894   1215.032    723.958\n",
       "7   11   3988.377   2615.365   3492.713   2315.766\n",
       "8   12  11373.429   6438.846  10164.816   6995.046\n",
       "9   13  34498.766  19442.650  28919.279  29873.229\n",
       "10  14  96643.015  66013.368  83419.583  82283.881"
      ]
     },
     "execution_count": 4,
     "metadata": {},
     "output_type": "execute_result"
    }
   ],
   "source": [
    "## Load data\n",
    "data = pd.read_csv('alldata.csv')\n",
    "\n",
    "## Disregard columns\n",
    "data = data.drop([\"rankdist\"], axis=1)\n",
    "\n",
    "## Group by N\n",
    "data_by_N = data.groupby(['N'], as_index=False).mean().drop(['id'], axis=1)\n",
    "\n",
    "data_by_N"
   ]
  },
  {
   "cell_type": "code",
   "execution_count": 5,
   "metadata": {},
   "outputs": [
    {
     "data": {
      "image/png": "[encoded data removed]",
      "text/plain": [
       "<Figure size 432x432 with 2 Axes>"
      ]
     },
     "metadata": {
      "needs_background": "light"
     },
     "output_type": "display_data"
    }
   ],
   "source": [
    "## Plots N vs. total number of backtracks\n",
    "figure, axes = plt.subplots(2, 1, figsize=(6,6), sharex=True, tight_layout=True)\n",
    "\n",
    "columns = [\"bt_random\", \"bt_rank\", \"bt_attack\", \"bt_center\"]\n",
    "\n",
    "data_by_N.plot(x=\"N\", y=columns, grid=True, label=[\"random\", \"rank\", \"attack\", \"center\"], kind=\"line\", ax=axes[0], \n",
    "               color=[color_dict.get(x, '#333333') for x in columns])\n",
    "\n",
    "data_by_N.plot(x=\"N\", y=columns, grid=True, kind=\"line\", ax=axes[1], logy=True, legend=False,\n",
    "               color=[color_dict.get(x, '#333333') for x in columns])\n",
    "\n",
    "axes[0].legend(loc=2, prop={'size': 11}, labels=[\"Random\", \"Rank\", \"Attack\", \"Center\"])\n",
    "\n",
    "axes[0].set_ylabel(\"Number of backtracks\")\n",
    "axes[1].set_ylabel(\"Number of backtracks\")\n",
    "\n",
    "plt.xticks(data_by_N[\"N\"])\n",
    "plt.xlabel(\"N\")\n",
    "#plt.ylabel(\"Number of backtracks\")\n",
    "plt.savefig('figures\\\\totalbacktracks.pdf')\n",
    "\n",
    "\n",
    "plt.show()"
   ]
  },
  {
   "cell_type": "code",
   "execution_count": 6,
   "metadata": {},
   "outputs": [
    {
     "data": {
      "text/html": [
       "<div>\n",
       "<style scoped>\n",
       "    .dataframe tbody tr th:only-of-type {\n",
       "        vertical-align: middle;\n",
       "    }\n",
       "\n",
       "    .dataframe tbody tr th {\n",
       "        vertical-align: top;\n",
       "    }\n",
       "\n",
       "    .dataframe thead th {\n",
       "        text-align: right;\n",
       "    }\n",
       "</style>\n",
       "<table border=\"1\" class=\"dataframe\">\n",
       "  <thead>\n",
       "    <tr style=\"text-align: right;\">\n",
       "      <th></th>\n",
       "      <th>N</th>\n",
       "      <th>bt_random</th>\n",
       "      <th>bt_rank</th>\n",
       "      <th>bt_attack</th>\n",
       "      <th>bt_center</th>\n",
       "    </tr>\n",
       "  </thead>\n",
       "  <tbody>\n",
       "    <tr>\n",
       "      <th>0</th>\n",
       "      <td>4</td>\n",
       "      <td>1.0</td>\n",
       "      <td>0.699211</td>\n",
       "      <td>1.178501</td>\n",
       "      <td>0.181460</td>\n",
       "    </tr>\n",
       "    <tr>\n",
       "      <th>1</th>\n",
       "      <td>5</td>\n",
       "      <td>1.0</td>\n",
       "      <td>0.638075</td>\n",
       "      <td>0.992376</td>\n",
       "      <td>0.217060</td>\n",
       "    </tr>\n",
       "    <tr>\n",
       "      <th>2</th>\n",
       "      <td>6</td>\n",
       "      <td>1.0</td>\n",
       "      <td>0.654245</td>\n",
       "      <td>0.982964</td>\n",
       "      <td>0.284852</td>\n",
       "    </tr>\n",
       "    <tr>\n",
       "      <th>3</th>\n",
       "      <td>7</td>\n",
       "      <td>1.0</td>\n",
       "      <td>0.640079</td>\n",
       "      <td>0.959477</td>\n",
       "      <td>0.355571</td>\n",
       "    </tr>\n",
       "    <tr>\n",
       "      <th>4</th>\n",
       "      <td>8</td>\n",
       "      <td>1.0</td>\n",
       "      <td>0.618117</td>\n",
       "      <td>0.942741</td>\n",
       "      <td>0.479508</td>\n",
       "    </tr>\n",
       "    <tr>\n",
       "      <th>5</th>\n",
       "      <td>9</td>\n",
       "      <td>1.0</td>\n",
       "      <td>0.670032</td>\n",
       "      <td>0.893941</td>\n",
       "      <td>0.498988</td>\n",
       "    </tr>\n",
       "    <tr>\n",
       "      <th>6</th>\n",
       "      <td>10</td>\n",
       "      <td>1.0</td>\n",
       "      <td>0.602466</td>\n",
       "      <td>0.883123</td>\n",
       "      <td>0.526195</td>\n",
       "    </tr>\n",
       "    <tr>\n",
       "      <th>7</th>\n",
       "      <td>11</td>\n",
       "      <td>1.0</td>\n",
       "      <td>0.655747</td>\n",
       "      <td>0.875723</td>\n",
       "      <td>0.580629</td>\n",
       "    </tr>\n",
       "    <tr>\n",
       "      <th>8</th>\n",
       "      <td>12</td>\n",
       "      <td>1.0</td>\n",
       "      <td>0.566131</td>\n",
       "      <td>0.893734</td>\n",
       "      <td>0.615034</td>\n",
       "    </tr>\n",
       "    <tr>\n",
       "      <th>9</th>\n",
       "      <td>13</td>\n",
       "      <td>1.0</td>\n",
       "      <td>0.563575</td>\n",
       "      <td>0.838270</td>\n",
       "      <td>0.865922</td>\n",
       "    </tr>\n",
       "    <tr>\n",
       "      <th>10</th>\n",
       "      <td>14</td>\n",
       "      <td>1.0</td>\n",
       "      <td>0.683064</td>\n",
       "      <td>0.863172</td>\n",
       "      <td>0.851421</td>\n",
       "    </tr>\n",
       "  </tbody>\n",
       "</table>\n",
       "</div>"
      ],
      "text/plain": [
       "     N  bt_random   bt_rank  bt_attack  bt_center\n",
       "0    4        1.0  0.699211   1.178501   0.181460\n",
       "1    5        1.0  0.638075   0.992376   0.217060\n",
       "2    6        1.0  0.654245   0.982964   0.284852\n",
       "3    7        1.0  0.640079   0.959477   0.355571\n",
       "4    8        1.0  0.618117   0.942741   0.479508\n",
       "5    9        1.0  0.670032   0.893941   0.498988\n",
       "6   10        1.0  0.602466   0.883123   0.526195\n",
       "7   11        1.0  0.655747   0.875723   0.580629\n",
       "8   12        1.0  0.566131   0.893734   0.615034\n",
       "9   13        1.0  0.563575   0.838270   0.865922\n",
       "10  14        1.0  0.683064   0.863172   0.851421"
      ]
     },
     "execution_count": 6,
     "metadata": {},
     "output_type": "execute_result"
    }
   ],
   "source": [
    "## Add columns with normalized number of backtracks compared to bt_random\n",
    "def normalize(df, col, by):\n",
    "    df[col] = df[col] / df[by]\n",
    "    \n",
    "for col in ['bt_rank', 'bt_attack', 'bt_center', 'bt_random']:\n",
    "    normalize(data_by_N, col, 'bt_random')\n",
    "    \n",
    "data_by_N.set_index('N')\n",
    "data_by_N"
   ]
  },
  {
   "cell_type": "code",
   "execution_count": 7,
   "metadata": {},
   "outputs": [
    {
     "data": {
      "image/png": "[encoded data removed]",
      "text/plain": [
       "<Figure size 432x288 with 1 Axes>"
      ]
     },
     "metadata": {
      "needs_background": "light"
     },
     "output_type": "display_data"
    }
   ],
   "source": [
    "columns = [\"bt_random\", \"bt_rank\", \"bt_attack\", \"bt_center\"]\n",
    "\n",
    "\n",
    "data_by_N.plot(x=\"N\", y=columns, \n",
    "               label=[\"random\", \"rank\", \"attack\", \"center\"],\n",
    "               kind=\"line\", figsize=(6,4), grid=True, color=[color_dict.get(x, '#333333') for x in columns])\n",
    "\n",
    "plt.xticks(data_by_N[\"N\"])\n",
    "#plt.title(\"Performance Heuristics\")\n",
    "\n",
    "plt.legend(loc=4, prop={'size': 11}, labels=[\"Random\", \"Rank\", \"Attack\", \"Center\"])\n",
    "plt.xlabel(\"N\")\n",
    "plt.ylabel(\"Performance Ratio\")\n",
    "plt.savefig('figures\\\\lines.pdf')\n",
    "plt.show()"
   ]
  },
  {
   "cell_type": "code",
   "execution_count": 8,
   "metadata": {},
   "outputs": [
    {
     "data": {
      "image/png": "[encoded data removed]",
      "text/plain": [
       "<Figure size 576x288 with 1 Axes>"
      ]
     },
     "metadata": {
      "needs_background": "light"
     },
     "output_type": "display_data"
    },
    {
     "data": {
      "image/png": "[encoded data removed]",
      "text/plain": [
       "<Figure size 288x360 with 1 Axes>"
      ]
     },
     "metadata": {
      "needs_background": "light"
     },
     "output_type": "display_data"
    }
   ],
   "source": [
    "columns = [\"bt_random\", \"bt_rank\", \"bt_attack\", \"bt_center\"]\n",
    "\n",
    "\n",
    "data_by_N.plot(x=\"N\", y=columns,\n",
    "               label=columns, kind=\"bar\", figsize=(8,4), color=[color_dict.get(x, '#333333') for x in columns])\n",
    "\n",
    "plt.xticks(rotation=45)\n",
    "#plt.title(\"Mince Pie Consumption Totals\")\n",
    "plt.xlabel(\"N\")\n",
    "plt.ylabel(\"backtrack ratio\")\n",
    "#plt.savefig('figures\\\\bar.png')\n",
    "plt.show()\n",
    "\n",
    "data_by_N.boxplot(column=['bt_rank', 'bt_attack', 'bt_center'],\n",
    "                  labels=['a', 'b', 'c'], figsize=(4,5))\n",
    "\n",
    "#plt.title(\"Mince Pie Consumption Totals\")\n",
    "plt.ylabel(\"backtrack ratio\")\n",
    "#plt.savefig('figures\\\\box.png')\n",
    "plt.show()"
   ]
  },
  {
   "cell_type": "markdown",
   "metadata": {},
   "source": [
    "### Characteristics"
   ]
  },
  {
   "cell_type": "code",
   "execution_count": 9,
   "metadata": {
    "scrolled": true
   },
   "outputs": [],
   "source": [
    "data = pd.read_csv('alldata.csv')\n",
    "    \n",
    "skew = np.zeros((len(data['rankdist'])))\n",
    "for i, ranking in enumerate(data['rankdist']):\n",
    "    rankings = [float(a) for a in str(ranking)]\n",
    "    skew[i] = stats.skew(rankings)\n",
    "    \n",
    "data['skew'] = skew"
   ]
  },
  {
   "cell_type": "code",
   "execution_count": 10,
   "metadata": {},
   "outputs": [
    {
     "data": {
      "text/html": [
       "<div>\n",
       "<style scoped>\n",
       "    .dataframe tbody tr th:only-of-type {\n",
       "        vertical-align: middle;\n",
       "    }\n",
       "\n",
       "    .dataframe tbody tr th {\n",
       "        vertical-align: top;\n",
       "    }\n",
       "\n",
       "    .dataframe thead th {\n",
       "        text-align: right;\n",
       "    }\n",
       "</style>\n",
       "<table border=\"1\" class=\"dataframe\">\n",
       "  <thead>\n",
       "    <tr style=\"text-align: right;\">\n",
       "      <th></th>\n",
       "      <th>skew_bin</th>\n",
       "      <th>counts</th>\n",
       "    </tr>\n",
       "  </thead>\n",
       "  <tbody>\n",
       "    <tr>\n",
       "      <th>0</th>\n",
       "      <td>(-inf, -0.499]</td>\n",
       "      <td>1187</td>\n",
       "    </tr>\n",
       "    <tr>\n",
       "      <th>1</th>\n",
       "      <td>(-0.499, 0.5]</td>\n",
       "      <td>6384</td>\n",
       "    </tr>\n",
       "    <tr>\n",
       "      <th>2</th>\n",
       "      <td>(0.5, inf]</td>\n",
       "      <td>3429</td>\n",
       "    </tr>\n",
       "  </tbody>\n",
       "</table>\n",
       "</div>"
      ],
      "text/plain": [
       "         skew_bin  counts\n",
       "0  (-inf, -0.499]    1187\n",
       "1   (-0.499, 0.5]    6384\n",
       "2      (0.5, inf]    3429"
      ]
     },
     "execution_count": 10,
     "metadata": {},
     "output_type": "execute_result"
    }
   ],
   "source": [
    "data['skew_bin'] = pd.cut(data['skew'],[-float(\"inf\"), -0.499, 0.5, float(\"inf\")])\n",
    "data.groupby(['skew_bin']).size().reset_index(name='counts')"
   ]
  },
  {
   "cell_type": "code",
   "execution_count": 12,
   "metadata": {},
   "outputs": [
    {
     "data": {
      "image/png": "[encoded data removed]",
      "text/plain": [
       "<Figure size 432x288 with 1 Axes>"
      ]
     },
     "metadata": {
      "needs_background": "light"
     },
     "output_type": "display_data"
    }
   ],
   "source": [
    "data = data.groupby(['skew_bin'], as_index=False).mean()\n",
    "data\n",
    "\n",
    "## Add columns with normalized number of backtracks compared to bt_random\n",
    "def normalize(df, col, by):\n",
    "    df[col] = df[col] / df[by]\n",
    "\n",
    "for col in ['bt_rank', 'bt_attack', 'bt_center', 'bt_random']:\n",
    "    normalize(data, col, 'bt_random')\n",
    "\n",
    "columns = [\"bt_rank\", \"bt_attack\", \"bt_center\"]\n",
    "\n",
    "ax = data.plot(x='skew_bin', y=columns, \n",
    "               label=[\"rank\", \"attack\", \"center\"],\n",
    "               kind=\"bar\", figsize=(6,4), \n",
    "               color=[color_dict.get(x, '#333333') for x in columns])\n",
    "\n",
    "\n",
    "#ax.set_title(\"Performance Heuristics\")\n",
    "ax.set_xticklabels([\"Negative Skew\",\"No Skew\",\"Positive Skew\"], rotation=0)\n",
    "ax.set_xlabel(\"Piece Type Distribution\")\n",
    "ax.set_ylabel(\"Performance Ratio\")\n",
    "plt.legend(loc=4, prop={'size': 11}, labels=[\"Rank\", \"Attack\", \"Center\"])\n",
    "plt.savefig('figures\\\\skew.pdf')\n",
    "plt.show()"
   ]
  }
 ],
 "metadata": {
  "kernelspec": {
   "display_name": "Python 3",
   "language": "python",
   "name": "python3"
  },
  "language_info": {
   "codemirror_mode": {
    "name": "ipython",
    "version": 3
   },
   "file_extension": ".py",
   "mimetype": "text/x-python",
   "name": "python",
   "nbconvert_exporter": "python",
   "pygments_lexer": "ipython3",
   "version": "3.7.3"
  }
 },
 "nbformat": 4,
 "nbformat_minor": 2
}
